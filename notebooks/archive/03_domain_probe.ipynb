{
 "cells": [
  {
   "cell_type": "code",
   "execution_count": 7,
   "metadata": {},
   "outputs": [],
   "source": [
    "import os\n",
    "from pathlib import Path\n",
    "\n",
    "import torch.nn as nn\n",
    "import torch.optim as optim\n",
    "import torch\n",
    "from torch.utils.data import TensorDataset, DataLoader, SubsetRandomSampler\n",
    "import numpy as np"
   ]
  },
  {
   "cell_type": "code",
   "execution_count": 5,
   "metadata": {},
   "outputs": [],
   "source": [
    "# NOTE: Change this to wherever the project is located in your google drive\n",
    "project_root = Path(\"/home/ubuntu/semrep\")\n",
    "embeddings_path = project_root / \"embeddings\" / \"encoders\""
   ]
  },
  {
   "cell_type": "code",
   "execution_count": 8,
   "metadata": {},
   "outputs": [
    {
     "data": {
      "text/plain": [
       "[PosixPath('/home/ubuntu/semrep/embeddings/encoders/ResNet18.npz'),\n",
       " PosixPath('/home/ubuntu/semrep/embeddings/encoders/dinov2.npz'),\n",
       " PosixPath('/home/ubuntu/semrep/embeddings/encoders/ResNet50.npz'),\n",
       " PosixPath('/home/ubuntu/semrep/embeddings/encoders/VIP.npz'),\n",
       " PosixPath('/home/ubuntu/semrep/embeddings/encoders/ResNet34.npz'),\n",
       " PosixPath('/home/ubuntu/semrep/embeddings/encoders/MVP.npz')]"
      ]
     },
     "execution_count": 8,
     "metadata": {},
     "output_type": "execute_result"
    }
   ],
   "source": [
    "dataset_paths = list(embeddings_path.glob(\"*.npz\"))\n",
    "\n",
    "dataset_paths"
   ]
  },
  {
   "cell_type": "code",
   "execution_count": 11,
   "metadata": {},
   "outputs": [
    {
     "data": {
      "text/plain": [
       "KeysView(NpzFile '/home/ubuntu/semrep/embeddings/encoders/ResNet18.npz' with keys: embeddings, labels, train_flag, dataset_flag)"
      ]
     },
     "execution_count": 11,
     "metadata": {},
     "output_type": "execute_result"
    }
   ],
   "source": [
    "data = np.load(dataset_paths[0])\n",
    "\n",
    "data.keys()"
   ]
  },
  {
   "cell_type": "code",
   "execution_count": null,
   "metadata": {},
   "outputs": [],
   "source": [
    "# Assuming data is your loaded dataset\n",
    "embeddings = torch.from_numpy(data[\"embeddings\"])\n",
    "domain_labels = torch.from_numpy(data[\"dataset_flag\"])\n",
    "train_flag = data[\"train_flag\"]  # Binary array indicating train (1) or val (0)\n",
    "\n",
    "# Create the full dataset\n",
    "full_dataset = TensorDataset(embeddings, domain_labels)\n",
    "\n",
    "# Create indices for train and validation splits\n",
    "train_indices = np.where(train_flag == 1)[0]\n",
    "val_indices = np.where(train_flag == 0)[0]\n",
    "\n",
    "# Create samplers for train and validation splits\n",
    "train_sampler = SubsetRandomSampler(train_indices)\n",
    "val_sampler = SubsetRandomSampler(val_indices)\n",
    "\n",
    "# Create DataLoaders\n",
    "batch_size = 200\n",
    "train_loader = DataLoader(full_dataset, batch_size=batch_size, sampler=train_sampler)\n",
    "val_loader = DataLoader(full_dataset, batch_size=batch_size, sampler=val_sampler)\n",
    "\n",
    "# Print some information about the splits\n",
    "print(f\"Total samples: {len(full_dataset)}\")\n",
    "print(f\"Training samples: {len(train_indices)}\")\n",
    "print(f\"Validation samples: {len(val_indices)}\")\n",
    "\n",
    "# If you need separate datasets for any reason, you can create them like this:\n",
    "train_dataset = torch.utils.data.Subset(full_dataset, train_indices)\n",
    "val_dataset = torch.utils.data.Subset(full_dataset, val_indices)\n",
    "\n",
    "\n",
    "class LinearProbe(nn.Module):\n",
    "    def __init__(self, input_dim, output_dim):\n",
    "        super(LinearProbe, self).__init__()\n",
    "        self.linear = nn.Linear(input_dim, output_dim)\n",
    "\n",
    "    def forward(self, x):\n",
    "        return self.linear(x)\n",
    "\n",
    "\n",
    "device = torch.device(\"cuda\" if torch.cuda.is_available() else \"cpu\")\n",
    "\n",
    "# Set input dimension from embeddings\n",
    "input_dim = embeddings.shape[1]\n",
    "\n",
    "domain_probe = LinearProbe(input_dim, 1).to(device)\n",
    "domain_criterion = nn.BCEWithLogitsLoss()  # Binary classification loss\n",
    "domain_optimizer = optim.Adam(domain_probe.parameters(), lr=0.001)\n",
    "\n",
    "\n",
    "def train_probe(probe, criterion, optimizer, train_loader, val_loader, epochs):\n",
    "    for epoch in range(epochs):\n",
    "        # Training Phase\n",
    "        probe.train()\n",
    "        train_loss = 0.0\n",
    "        for features, labels in train_loader:\n",
    "            features, labels = features.to(device), labels.to(device)\n",
    "            optimizer.zero_grad()\n",
    "            outputs = probe(features)\n",
    "            loss = criterion(outputs.squeeze(), labels)\n",
    "            loss.backward()\n",
    "            optimizer.step()\n",
    "            train_loss += loss.item()\n",
    "\n",
    "        probe.eval()\n",
    "        val_loss = 0.0\n",
    "        correct = 0\n",
    "        total = 0\n",
    "        with torch.no_grad():\n",
    "            for features, labels in val_loader:\n",
    "                features, labels = features.to(device), labels.to(device)\n",
    "                outputs = probe(features)\n",
    "                loss = criterion(outputs.squeeze(), labels)\n",
    "                val_loss += loss.item()\n",
    "\n",
    "                predicted = torch.round(torch.sigmoid(outputs)).squeeze()  # Binary prediction\n",
    "                correct += (predicted == labels).sum().item()\n",
    "                total += labels.size(0)\n",
    "\n",
    "        val_accuracy = correct / total\n",
    "        print(\n",
    "            f\"Epoch [{epoch+1}/{epochs}] | \"\n",
    "            f\"Train Loss: {train_loss/len(train_loader):.4f} | \"\n",
    "            f\"Val Loss: {val_loss/len(val_loader):.4f} | \"\n",
    "            f\"Val Accuracy: {val_accuracy * 100:.2f}% \"\n",
    "        )\n",
    "\n",
    "\n",
    "train_probe(domain_probe, domain_criterion, domain_optimizer, train_loader, val_loader, epochs=30)\n",
    "# split train and val on the trajectory level"
   ]
  }
 ],
 "metadata": {
  "kernelspec": {
   "display_name": "sr",
   "language": "python",
   "name": "python3"
  },
  "language_info": {
   "codemirror_mode": {
    "name": "ipython",
    "version": 3
   },
   "file_extension": ".py",
   "mimetype": "text/x-python",
   "name": "python",
   "nbconvert_exporter": "python",
   "pygments_lexer": "ipython3",
   "version": "3.10.0"
  }
 },
 "nbformat": 4,
 "nbformat_minor": 2
}
